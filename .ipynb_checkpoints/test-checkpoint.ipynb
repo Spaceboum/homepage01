{
 "cells": [
  {
   "cell_type": "code",
   "execution_count": null,
   "metadata": {},
   "outputs": [],
   "source": [
    "import requests\n",
    "import json\n",
    "\n",
    "# 한국은행 Open API 설정\n",
    "API_KEY = 'FNJ2W8O88I2TSGD3GOMD'  # 발급받은 API 키를 입력\n",
    "BASE_URL = 'https://ecos.bok.or.kr/api/'\n",
    "STAT_CODE = '901Y002'  # 통화량 관련 통계 코드 (예: M2 통화량)\n",
    "START_DATE = '20230101'  # 시작일자 (YYYYMMDD)\n",
    "END_DATE = '20230901'    # 종료일자 (YYYYMMDD)\n",
    "ITEM_COUNT = '100'  # 데이터 개수\n",
    "\n",
    "# API 호출 URL 생성\n",
    "url = f'{BASE_URL}getData/{API_KEY}/json/kr/{STAT_CODE}/{START_DATE}/{END_DATE}/{ITEM_COUNT}'\n",
    "\n",
    "# API 요청\n",
    "response = requests.get(url)\n",
    "\n",
    "# 응답 확인 및 JSON 파싱\n",
    "if response.status_code == 200:\n",
    "    data = response.json()\n",
    "    print(json.dumps(data, indent=4, ensure_ascii=False))  # 예쁘게 출력\n",
    "else:\n",
    "    print(f\"Error: {response.status_code}\")\n"
   ]
  }
 ],
 "metadata": {
  "kernelspec": {
   "display_name": "homepage01",
   "language": "python",
   "name": "python3"
  },
  "language_info": {
   "codemirror_mode": {
    "name": "ipython",
    "version": 3
   },
   "file_extension": ".py",
   "mimetype": "text/x-python",
   "name": "python",
   "nbconvert_exporter": "python",
   "pygments_lexer": "ipython3",
   "version": "3.11.0"
  }
 },
 "nbformat": 4,
 "nbformat_minor": 2
}
